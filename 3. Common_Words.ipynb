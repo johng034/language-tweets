{
 "cells": [
  {
   "cell_type": "code",
   "execution_count": 1,
   "metadata": {},
   "outputs": [],
   "source": [
    "import pandas as pd\n",
    "from sklearn.feature_extraction.text import CountVectorizer\n",
    "from wordcloud import WordCloud\n",
    "# import matplotlib.pyplot as plt"
   ]
  },
  {
   "cell_type": "code",
   "execution_count": 2,
   "metadata": {},
   "outputs": [],
   "source": [
    "df = pd.read_csv('./data/cleaned_data.csv')\n",
    "languages = df.columns"
   ]
  },
  {
   "cell_type": "code",
   "execution_count": 3,
   "metadata": {},
   "outputs": [
    {
     "data": {
      "text/html": [
       "<div>\n",
       "<style scoped>\n",
       "    .dataframe tbody tr th:only-of-type {\n",
       "        vertical-align: middle;\n",
       "    }\n",
       "\n",
       "    .dataframe tbody tr th {\n",
       "        vertical-align: top;\n",
       "    }\n",
       "\n",
       "    .dataframe thead th {\n",
       "        text-align: right;\n",
       "    }\n",
       "</style>\n",
       "<table border=\"1\" class=\"dataframe\">\n",
       "  <thead>\n",
       "    <tr style=\"text-align: right;\">\n",
       "      <th></th>\n",
       "      <th>German</th>\n",
       "      <th>French</th>\n",
       "    </tr>\n",
       "  </thead>\n",
       "  <tbody>\n",
       "    <tr>\n",
       "      <th>0</th>\n",
       "      <td>in meiner branche sind wir damit ganz weit vorn</td>\n",
       "      <td>du pacte des loups à juste la fin du monde la ...</td>\n",
       "    </tr>\n",
       "    <tr>\n",
       "      <th>1</th>\n",
       "      <td>NaN</td>\n",
       "      <td>devant le sénat vincent bolloré relativise son...</td>\n",
       "    </tr>\n",
       "    <tr>\n",
       "      <th>2</th>\n",
       "      <td>ich vermisse beim stundeneintragen den punkt e...</td>\n",
       "      <td>la corée du nord annonce une possible reprise ...</td>\n",
       "    </tr>\n",
       "    <tr>\n",
       "      <th>3</th>\n",
       "      <td>n trotzki</td>\n",
       "      <td>joe biden n avait pas anticipé une telle oppos...</td>\n",
       "    </tr>\n",
       "    <tr>\n",
       "      <th>4</th>\n",
       "      <td>er hat uns die freude geschenkt</td>\n",
       "      <td>aux etats unis joe biden promet un désastre à ...</td>\n",
       "    </tr>\n",
       "  </tbody>\n",
       "</table>\n",
       "</div>"
      ],
      "text/plain": [
       "                                              German  \\\n",
       "0    in meiner branche sind wir damit ganz weit vorn   \n",
       "1                                                NaN   \n",
       "2  ich vermisse beim stundeneintragen den punkt e...   \n",
       "3                                          n trotzki   \n",
       "4                    er hat uns die freude geschenkt   \n",
       "\n",
       "                                              French  \n",
       "0  du pacte des loups à juste la fin du monde la ...  \n",
       "1  devant le sénat vincent bolloré relativise son...  \n",
       "2  la corée du nord annonce une possible reprise ...  \n",
       "3  joe biden n avait pas anticipé une telle oppos...  \n",
       "4  aux etats unis joe biden promet un désastre à ...  "
      ]
     },
     "execution_count": 3,
     "metadata": {},
     "output_type": "execute_result"
    }
   ],
   "source": [
    "df.head()"
   ]
  },
  {
   "cell_type": "code",
   "execution_count": 4,
   "metadata": {},
   "outputs": [],
   "source": [
    "def remove_empty_rows(df, language):\n",
    "    series = df[language]\n",
    "\n",
    "    # Get the index of any empty rows\n",
    "    empty_rows = df[(df[language] == '') | (df[language].isna())].index\n",
    "    \n",
    "    # Drop those rows using the index\n",
    "    empty_removed = series.drop(empty_rows, axis=0)\n",
    "\n",
    "    # Reset the index\n",
    "    empty_removed.reset_index(drop=True, inplace=True)\n",
    "\n",
    "    return empty_removed"
   ]
  },
  {
   "cell_type": "markdown",
   "metadata": {},
   "source": [
    "## Create WordCloud"
   ]
  },
  {
   "cell_type": "code",
   "execution_count": 5,
   "metadata": {},
   "outputs": [],
   "source": [
    "wordcloud_paths = {\n",
    "    'French': './wordclouds/French_wordcloud.png',\n",
    "    'German': './wordclouds/german_wordcloud.png'\n",
    "}\n",
    "\n",
    "for language in languages:\n",
    "    # Drop the empty rows\n",
    "    target_dropped = remove_empty_rows(df, language)\n",
    "\n",
    "    # Combine all the text into a single string\n",
    "    long_string = \" \".join(target_dropped)\n",
    "\n",
    "    # Initialize the wordcloud\n",
    "    wc = WordCloud(background_color='white', contour_color='steelblue', height=600, width=800)\n",
    "\n",
    "    # Add data to the wordcloud\n",
    "    wc.generate(long_string)\n",
    "\n",
    "    # Save the cloud as a png file\n",
    "    wc.to_file(wordcloud_paths[language])"
   ]
  },
  {
   "cell_type": "code",
   "execution_count": 6,
   "metadata": {},
   "outputs": [],
   "source": [
    "# # Visualize wordcloud\n",
    "# plt.imshow(wc, interpolation='bilinear')\n",
    "# plt.axis('off')\n",
    "# plt.show()"
   ]
  },
  {
   "cell_type": "markdown",
   "metadata": {},
   "source": [
    "## Word Count"
   ]
  },
  {
   "cell_type": "code",
   "execution_count": 7,
   "metadata": {},
   "outputs": [],
   "source": [
    "for language in languages:\n",
    "    # Drop the empty rows\n",
    "    target_dropped = remove_empty_rows(df, language)\n",
    "\n",
    "    # Initialize counter vectorizer\n",
    "    vec = CountVectorizer()\n",
    "\n",
    "    # Transform to document term matrix\n",
    "    X = vec.fit_transform(target_dropped)\n",
    "\n",
    "    # Create DataFrame\n",
    "    tdm = pd.DataFrame(data=X.toarray(), columns=vec.get_feature_names_out())\n",
    "\n",
    "    # Sort DataFrame by word frequency\n",
    "    words = tdm.sum(axis=0).sort_values(ascending=False)\n",
    "\n",
    "    words.to_csv(f'./data/common_words/{language}_common.csv', header=['count'], index_label='word')"
   ]
  }
 ],
 "metadata": {
  "interpreter": {
   "hash": "c13c2d661185228a4c4d63993c20c3e5bdf2ba4e265046529d225752df3d5e17"
  },
  "kernelspec": {
   "display_name": "Python 3.7.0 64-bit (system)",
   "language": "python",
   "name": "python3"
  },
  "language_info": {
   "codemirror_mode": {
    "name": "ipython",
    "version": 3
   },
   "file_extension": ".py",
   "mimetype": "text/x-python",
   "name": "python",
   "nbconvert_exporter": "python",
   "pygments_lexer": "ipython3",
   "version": "3.7.0"
  },
  "orig_nbformat": 4
 },
 "nbformat": 4,
 "nbformat_minor": 2
}
