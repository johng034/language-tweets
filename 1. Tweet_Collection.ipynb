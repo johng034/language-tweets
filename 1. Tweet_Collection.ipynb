{
 "cells": [
  {
   "cell_type": "code",
   "execution_count": 1,
   "metadata": {},
   "outputs": [],
   "source": [
    "import pandas as pd\n",
    "import tweepy"
   ]
  },
  {
   "cell_type": "code",
   "execution_count": 2,
   "metadata": {},
   "outputs": [],
   "source": [
    "words_df = pd.read_csv('./data/twitter_accounts.csv')\n",
    "languages = words_df.columns"
   ]
  },
  {
   "cell_type": "code",
   "execution_count": 3,
   "metadata": {},
   "outputs": [
    {
     "data": {
      "text/html": [
       "<div>\n",
       "<style scoped>\n",
       "    .dataframe tbody tr th:only-of-type {\n",
       "        vertical-align: middle;\n",
       "    }\n",
       "\n",
       "    .dataframe tbody tr th {\n",
       "        vertical-align: top;\n",
       "    }\n",
       "\n",
       "    .dataframe thead th {\n",
       "        text-align: right;\n",
       "    }\n",
       "</style>\n",
       "<table border=\"1\" class=\"dataframe\">\n",
       "  <thead>\n",
       "    <tr style=\"text-align: right;\">\n",
       "      <th></th>\n",
       "      <th>German</th>\n",
       "      <th>French</th>\n",
       "      <th>Italian</th>\n",
       "      <th>Spanish</th>\n",
       "      <th>English</th>\n",
       "    </tr>\n",
       "  </thead>\n",
       "  <tbody>\n",
       "    <tr>\n",
       "      <th>0</th>\n",
       "      <td>Aus_der_UBahn</td>\n",
       "      <td>lemondefr</td>\n",
       "      <td>Pontifex_it</td>\n",
       "      <td>bbcmundo</td>\n",
       "      <td>HiddenBrain</td>\n",
       "    </tr>\n",
       "    <tr>\n",
       "      <th>1</th>\n",
       "      <td>mainwasser</td>\n",
       "      <td>ouimenon</td>\n",
       "      <td>repubblica</td>\n",
       "      <td>CNNEE</td>\n",
       "      <td>LinusTech</td>\n",
       "    </tr>\n",
       "    <tr>\n",
       "      <th>2</th>\n",
       "      <td>GrumpyMerkel</td>\n",
       "      <td>SemounElie</td>\n",
       "      <td>Corriere</td>\n",
       "      <td>platzi</td>\n",
       "      <td>lexfridman</td>\n",
       "    </tr>\n",
       "    <tr>\n",
       "      <th>3</th>\n",
       "      <td>SPIEGEL_alles</td>\n",
       "      <td>MonsieurDream</td>\n",
       "      <td>StefaniaChiale</td>\n",
       "      <td>perezreverte</td>\n",
       "      <td>hubermanlab</td>\n",
       "    </tr>\n",
       "    <tr>\n",
       "      <th>4</th>\n",
       "      <td>dw_deutsch</td>\n",
       "      <td>valtrier</td>\n",
       "      <td>sferaebbasta</td>\n",
       "      <td>Statista_ES</td>\n",
       "      <td>davidasinclair</td>\n",
       "    </tr>\n",
       "  </tbody>\n",
       "</table>\n",
       "</div>"
      ],
      "text/plain": [
       "          German         French         Italian       Spanish         English\n",
       "0  Aus_der_UBahn      lemondefr     Pontifex_it      bbcmundo     HiddenBrain\n",
       "1     mainwasser       ouimenon      repubblica         CNNEE       LinusTech\n",
       "2   GrumpyMerkel     SemounElie        Corriere        platzi      lexfridman\n",
       "3  SPIEGEL_alles  MonsieurDream  StefaniaChiale  perezreverte     hubermanlab\n",
       "4     dw_deutsch       valtrier    sferaebbasta   Statista_ES  davidasinclair"
      ]
     },
     "execution_count": 3,
     "metadata": {},
     "output_type": "execute_result"
    }
   ],
   "source": [
    "words_df.head()"
   ]
  },
  {
   "cell_type": "markdown",
   "metadata": {},
   "source": [
    "Fill in information"
   ]
  },
  {
   "cell_type": "code",
   "execution_count": 4,
   "metadata": {},
   "outputs": [],
   "source": [
    "consumer_key    = ''\n",
    "consumer_secret = ''\n",
    "\n",
    "access_token    = ''\n",
    "access_secret   = ''\n",
    "\n",
    "callback_uri = 'oob'"
   ]
  },
  {
   "cell_type": "code",
   "execution_count": 5,
   "metadata": {},
   "outputs": [],
   "source": [
    "auth = tweepy.OAuthHandler(consumer_key, consumer_secret)\n",
    "auth.set_access_token(access_token, access_secret)\n",
    "\n",
    "api = tweepy.API(auth)"
   ]
  },
  {
   "cell_type": "markdown",
   "metadata": {},
   "source": [
    "## Steps to Take\n",
    "- Get *x* number of tweets using the `count` parameter\n",
    "- Result is a list of json files containing data about each tweet\n",
    "- Search for just the text data using `text` attribute\n",
    "- Append the data to a list"
   ]
  },
  {
   "cell_type": "code",
   "execution_count": 6,
   "metadata": {},
   "outputs": [],
   "source": [
    "## Example\n",
    "# first_user = api.user_timeline(screen_name = first, count=5)\n",
    "# user = first_user[4]\n",
    "# user.text"
   ]
  },
  {
   "cell_type": "code",
   "execution_count": 7,
   "metadata": {},
   "outputs": [],
   "source": [
    "# Number of tweets to collect per user\n",
    "tweet_num = 200"
   ]
  },
  {
   "cell_type": "code",
   "execution_count": 8,
   "metadata": {},
   "outputs": [],
   "source": [
    "def get_text(username):\n",
    "    text_data = []\n",
    "    tweet_data = api.user_timeline(screen_name=username, count=tweet_num, tweet_mode='extended')\n",
    "    \n",
    "    # Get the text from the tweet\n",
    "    for tweet in tweet_data:\n",
    "        text_data.append(tweet.full_text)\n",
    "\n",
    "    \n",
    "    return text_data"
   ]
  },
  {
   "cell_type": "code",
   "execution_count": 9,
   "metadata": {},
   "outputs": [],
   "source": [
    "language_df = pd.DataFrame()  # Empty DataFrame to hold tweets\n",
    "\n",
    "for language in languages:\n",
    "    usernames = words_df[language].copy()  # List of usernames\n",
    "    full_tweets = []  # Empty list to hold tweets\n",
    "\n",
    "    # Iterate over usernames and get the tweet\n",
    "    for username in usernames:\n",
    "        full_tweets.extend(get_text(username=username))\n",
    "    \n",
    "    # Create DataFrame containing text data\n",
    "    lang_df = pd.DataFrame(data=full_tweets, columns=[f'{language}'])\n",
    "\n",
    "    language_df = pd.concat([language_df, lang_df], axis=1)\n"
   ]
  },
  {
   "cell_type": "code",
   "execution_count": 10,
   "metadata": {},
   "outputs": [
    {
     "data": {
      "text/html": [
       "<div>\n",
       "<style scoped>\n",
       "    .dataframe tbody tr th:only-of-type {\n",
       "        vertical-align: middle;\n",
       "    }\n",
       "\n",
       "    .dataframe tbody tr th {\n",
       "        vertical-align: top;\n",
       "    }\n",
       "\n",
       "    .dataframe thead th {\n",
       "        text-align: right;\n",
       "    }\n",
       "</style>\n",
       "<table border=\"1\" class=\"dataframe\">\n",
       "  <thead>\n",
       "    <tr style=\"text-align: right;\">\n",
       "      <th></th>\n",
       "      <th>German</th>\n",
       "      <th>French</th>\n",
       "      <th>Italian</th>\n",
       "      <th>Spanish</th>\n",
       "      <th>English</th>\n",
       "    </tr>\n",
       "  </thead>\n",
       "  <tbody>\n",
       "    <tr>\n",
       "      <th>0</th>\n",
       "      <td>@Darth_Lehrer Mist, durchschaut! \\nEgal, ich m...</td>\n",
       "      <td>Au Sénat, Bernard Arnault se dépeint en bienfa...</td>\n",
       "      <td>Pregare insieme, gli uni per gli altri, e darc...</td>\n",
       "      <td>\"Pandemia silenciosa\": las infecciones por bac...</td>\n",
       "      <td>Psychologist Robert Coplan studies the concept...</td>\n",
       "    </tr>\n",
       "    <tr>\n",
       "      <th>1</th>\n",
       "      <td>@florianklenk Oh was für eine süße Watschelente!</td>\n",
       "      <td>#Présidentielle2022 Le récap politique du jour...</td>\n",
       "      <td>#PreghiamoInsieme per le popolazioni delle Iso...</td>\n",
       "      <td>\"Creo que hay un sesgo masculino de despreciar...</td>\n",
       "      <td>“Things like love and trust and caring simply ...</td>\n",
       "    </tr>\n",
       "    <tr>\n",
       "      <th>2</th>\n",
       "      <td>@krizzy4peace 🚇👉🐑</td>\n",
       "      <td>L’ex-otage Ingrid Betancourt précandidate à la...</td>\n",
       "      <td>Oggi #PreghiamoInsieme per coloro che sono in ...</td>\n",
       "      <td>La fiscalía peruana anunció que comenzará una ...</td>\n",
       "      <td>It’s not just temperature. All kinds of factor...</td>\n",
       "    </tr>\n",
       "    <tr>\n",
       "      <th>3</th>\n",
       "      <td>@tmigge So viel Stups ist auch wieder doof. 🤷‍♂️</td>\n",
       "      <td>En exil en France, Kamal Mouzawak partage les ...</td>\n",
       "      <td>La tenerezza non è una questione emotiva o sen...</td>\n",
       "      <td>Hay temores de que Moscú está tratando de divi...</td>\n",
       "      <td>“On days that were warmer than average people ...</td>\n",
       "    </tr>\n",
       "    <tr>\n",
       "      <th>4</th>\n",
       "      <td>@tmigge Stupst!</td>\n",
       "      <td>L’Egypte capture un opposant islamiste après l...</td>\n",
       "      <td>Come i Magi, venuti dall’oriente a Betlemme pe...</td>\n",
       "      <td>Putin amenazó con \"apropiadas medidas técnico-...</td>\n",
       "      <td>“Although people are quite aware of global war...</td>\n",
       "    </tr>\n",
       "  </tbody>\n",
       "</table>\n",
       "</div>"
      ],
      "text/plain": [
       "                                              German  \\\n",
       "0  @Darth_Lehrer Mist, durchschaut! \\nEgal, ich m...   \n",
       "1   @florianklenk Oh was für eine süße Watschelente!   \n",
       "2                                  @krizzy4peace 🚇👉🐑   \n",
       "3   @tmigge So viel Stups ist auch wieder doof. 🤷‍♂️   \n",
       "4                                    @tmigge Stupst!   \n",
       "\n",
       "                                              French  \\\n",
       "0  Au Sénat, Bernard Arnault se dépeint en bienfa...   \n",
       "1  #Présidentielle2022 Le récap politique du jour...   \n",
       "2  L’ex-otage Ingrid Betancourt précandidate à la...   \n",
       "3  En exil en France, Kamal Mouzawak partage les ...   \n",
       "4  L’Egypte capture un opposant islamiste après l...   \n",
       "\n",
       "                                             Italian  \\\n",
       "0  Pregare insieme, gli uni per gli altri, e darc...   \n",
       "1  #PreghiamoInsieme per le popolazioni delle Iso...   \n",
       "2  Oggi #PreghiamoInsieme per coloro che sono in ...   \n",
       "3  La tenerezza non è una questione emotiva o sen...   \n",
       "4  Come i Magi, venuti dall’oriente a Betlemme pe...   \n",
       "\n",
       "                                             Spanish  \\\n",
       "0  \"Pandemia silenciosa\": las infecciones por bac...   \n",
       "1  \"Creo que hay un sesgo masculino de despreciar...   \n",
       "2  La fiscalía peruana anunció que comenzará una ...   \n",
       "3  Hay temores de que Moscú está tratando de divi...   \n",
       "4  Putin amenazó con \"apropiadas medidas técnico-...   \n",
       "\n",
       "                                             English  \n",
       "0  Psychologist Robert Coplan studies the concept...  \n",
       "1  “Things like love and trust and caring simply ...  \n",
       "2  It’s not just temperature. All kinds of factor...  \n",
       "3  “On days that were warmer than average people ...  \n",
       "4  “Although people are quite aware of global war...  "
      ]
     },
     "execution_count": 10,
     "metadata": {},
     "output_type": "execute_result"
    }
   ],
   "source": [
    "language_df.head()"
   ]
  },
  {
   "cell_type": "code",
   "execution_count": 11,
   "metadata": {},
   "outputs": [
    {
     "data": {
      "text/plain": [
       "(2000, 5)"
      ]
     },
     "execution_count": 11,
     "metadata": {},
     "output_type": "execute_result"
    }
   ],
   "source": [
    "language_df.shape"
   ]
  },
  {
   "cell_type": "markdown",
   "metadata": {},
   "source": [
    "Save the DataFrame as a *csv* file"
   ]
  },
  {
   "cell_type": "code",
   "execution_count": 12,
   "metadata": {},
   "outputs": [],
   "source": [
    "language_df.to_csv('./data/raw_data.csv', index=False)"
   ]
  },
  {
   "cell_type": "code",
   "execution_count": null,
   "metadata": {},
   "outputs": [],
   "source": []
  }
 ],
 "metadata": {
  "kernelspec": {
   "display_name": "Python 3",
   "language": "python",
   "name": "python3"
  },
  "language_info": {
   "codemirror_mode": {
    "name": "ipython",
    "version": 3
   },
   "file_extension": ".py",
   "mimetype": "text/x-python",
   "name": "python",
   "nbconvert_exporter": "python",
   "pygments_lexer": "ipython3",
   "version": "3.7.0"
  }
 },
 "nbformat": 4,
 "nbformat_minor": 2
}
