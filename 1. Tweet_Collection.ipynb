{
 "cells": [
  {
   "cell_type": "code",
   "execution_count": 1,
   "metadata": {},
   "outputs": [],
   "source": [
    "import pandas as pd\n",
    "import tweepy"
   ]
  },
  {
   "cell_type": "code",
   "execution_count": 2,
   "metadata": {},
   "outputs": [],
   "source": [
    "words_df = pd.read_csv('./data/twitter_accounts.csv')\n",
    "languages = words_df.columns"
   ]
  },
  {
   "cell_type": "markdown",
   "metadata": {},
   "source": [
    "Fill in information"
   ]
  },
  {
   "cell_type": "code",
   "execution_count": 3,
   "metadata": {},
   "outputs": [],
   "source": [
    "consumer_key    = ''\n",
    "consumer_secret = ''\n",
    "\n",
    "access_token    = ''\n",
    "access_secret   = ''\n",
    "\n",
    "callback_uri = 'oob'"
   ]
  },
  {
   "cell_type": "code",
   "execution_count": 4,
   "metadata": {},
   "outputs": [],
   "source": [
    "auth = tweepy.OAuthHandler(consumer_key, consumer_secret)\n",
    "auth.set_access_token(access_token, access_secret)\n",
    "\n",
    "api = tweepy.API(auth)"
   ]
  },
  {
   "cell_type": "markdown",
   "metadata": {},
   "source": [
    "## Steps to Take\n",
    "- Get *x* number of tweets using the `count` parameter\n",
    "- Result is a list of json files containing data about each tweet\n",
    "- Search for just the text data using `text` attribute\n",
    "- Append the data to a list"
   ]
  },
  {
   "cell_type": "code",
   "execution_count": 5,
   "metadata": {},
   "outputs": [],
   "source": [
    "## Example\n",
    "# first_user = api.user_timeline(screen_name = first, count=5)\n",
    "# user = first_user[4]\n",
    "# user.text"
   ]
  },
  {
   "cell_type": "code",
   "execution_count": 6,
   "metadata": {},
   "outputs": [],
   "source": [
    "# Number of tweets to collect per user\n",
    "tweet_num = 200"
   ]
  },
  {
   "cell_type": "code",
   "execution_count": 7,
   "metadata": {},
   "outputs": [],
   "source": [
    "def get_text(username):\n",
    "    text_data = []\n",
    "    tweet_data = api.user_timeline(screen_name=username, count=tweet_num, tweet_mode='extended')\n",
    "    \n",
    "    # Get the text from the tweet\n",
    "    for tweet in tweet_data:\n",
    "        text_data.append(tweet.full_text)\n",
    "\n",
    "    \n",
    "    return text_data"
   ]
  },
  {
   "cell_type": "code",
   "execution_count": 8,
   "metadata": {},
   "outputs": [],
   "source": [
    "language_df = pd.DataFrame()  # Empty DataFrame to hold tweets\n",
    "\n",
    "for language in languages:\n",
    "    usernames = words_df[language].copy()  # List of usernames\n",
    "    full_tweets = []  # Empty list to hold tweets\n",
    "\n",
    "    # Iterate over usernames and get the tweet\n",
    "    for username in usernames:\n",
    "        full_tweets.extend(get_text(username=username))\n",
    "    \n",
    "    # Create DataFrame containing text data\n",
    "    lang_df = pd.DataFrame(data=full_tweets, columns=[f'{language}'])\n",
    "\n",
    "    language_df = pd.concat([language_df, lang_df], axis=1)\n"
   ]
  },
  {
   "cell_type": "markdown",
   "metadata": {},
   "source": [
    "Save the DataFrame as a *csv* file"
   ]
  },
  {
   "cell_type": "code",
   "execution_count": 9,
   "metadata": {},
   "outputs": [],
   "source": [
    "language_df.to_csv('./data/raw_data.csv', index=False)"
   ]
  },
  {
   "cell_type": "code",
   "execution_count": null,
   "metadata": {},
   "outputs": [],
   "source": []
  }
 ],
 "metadata": {
  "kernelspec": {
   "display_name": "Python 3",
   "language": "python",
   "name": "python3"
  },
  "language_info": {
   "codemirror_mode": {
    "name": "ipython",
    "version": 3
   },
   "file_extension": ".py",
   "mimetype": "text/x-python",
   "name": "python",
   "nbconvert_exporter": "python",
   "pygments_lexer": "ipython3",
   "version": "3.7.0"
  }
 },
 "nbformat": 4,
 "nbformat_minor": 2
}
