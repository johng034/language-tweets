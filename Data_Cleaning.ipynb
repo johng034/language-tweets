{
 "cells": [
  {
   "cell_type": "code",
   "execution_count": 1,
   "metadata": {},
   "outputs": [],
   "source": [
    "import pandas as pd\n",
    "import re\n",
    "from sklearn.feature_extraction.text import CountVectorizer"
   ]
  },
  {
   "cell_type": "code",
   "execution_count": 2,
   "metadata": {},
   "outputs": [
    {
     "data": {
      "text/html": [
       "<div>\n",
       "<style scoped>\n",
       "    .dataframe tbody tr th:only-of-type {\n",
       "        vertical-align: middle;\n",
       "    }\n",
       "\n",
       "    .dataframe tbody tr th {\n",
       "        vertical-align: top;\n",
       "    }\n",
       "\n",
       "    .dataframe thead th {\n",
       "        text-align: right;\n",
       "    }\n",
       "</style>\n",
       "<table border=\"1\" class=\"dataframe\">\n",
       "  <thead>\n",
       "    <tr style=\"text-align: right;\">\n",
       "      <th></th>\n",
       "      <th>raw_tweet_data</th>\n",
       "    </tr>\n",
       "  </thead>\n",
       "  <tbody>\n",
       "    <tr>\n",
       "      <th>0</th>\n",
       "      <td>@chardinghh In meiner Branche sind wir damit g...</td>\n",
       "    </tr>\n",
       "    <tr>\n",
       "      <th>1</th>\n",
       "      <td>@crittersport 🤣</td>\n",
       "    </tr>\n",
       "    <tr>\n",
       "      <th>2</th>\n",
       "      <td>Ich vermisse beim Stundeneintragen den Punkt „...</td>\n",
       "    </tr>\n",
       "    <tr>\n",
       "      <th>3</th>\n",
       "      <td>@lawen4cer N‘Trotzki.</td>\n",
       "    </tr>\n",
       "    <tr>\n",
       "      <th>4</th>\n",
       "      <td>@ktschk ER HAT UNS DIE FREUDE GESCHENKT!</td>\n",
       "    </tr>\n",
       "  </tbody>\n",
       "</table>\n",
       "</div>"
      ],
      "text/plain": [
       "                                      raw_tweet_data\n",
       "0  @chardinghh In meiner Branche sind wir damit g...\n",
       "1                                    @crittersport 🤣\n",
       "2  Ich vermisse beim Stundeneintragen den Punkt „...\n",
       "3                              @lawen4cer N‘Trotzki.\n",
       "4           @ktschk ER HAT UNS DIE FREUDE GESCHENKT!"
      ]
     },
     "execution_count": 2,
     "metadata": {},
     "output_type": "execute_result"
    }
   ],
   "source": [
    "raw_data = pd.read_csv('./data/raw_data.csv')\n",
    "raw_data.head()"
   ]
  },
  {
   "cell_type": "markdown",
   "metadata": {},
   "source": [
    "## Some ideas:\n",
    "- `@` + word + ` ` \n",
    "- Lowercase everything\n",
    "\n",
    "### Remove\n",
    "- Numbers\n",
    "- Hashtags\n",
    "- Links\n",
    "- Special characters such as *:, (, ), etc.*\n",
    "- Emojis\n",
    "- `\"RT\"`"
   ]
  },
  {
   "cell_type": "markdown",
   "metadata": {},
   "source": [
    "### Special characters\n",
    "- \\ - \" \"( )  / : _ * $ + "
   ]
  },
  {
   "cell_type": "code",
   "execution_count": 3,
   "metadata": {},
   "outputs": [],
   "source": [
    "data = raw_data['raw_tweet_data'].copy()"
   ]
  },
  {
   "cell_type": "code",
   "execution_count": 4,
   "metadata": {},
   "outputs": [
    {
     "data": {
      "text/plain": [
       "0       @chardinghh In meiner Branche sind wir damit g...\n",
       "1                                         @crittersport 🤣\n",
       "2       Ich vermisse beim Stundeneintragen den Punkt „...\n",
       "3                                   @lawen4cer N‘Trotzki.\n",
       "4                @ktschk ER HAT UNS DIE FREUDE GESCHENKT!\n",
       "                              ...                        \n",
       "1991                                           @andijah 😇\n",
       "1992    @andijah Ganz spontan: Guru oder Crack – ist a...\n",
       "1993    RT @andijah: Kurze Zwischenfrage ins virtuelle...\n",
       "1994              RT @BlakesWort: https://t.co/p0RpcvNb6j\n",
       "1995    @dpd_de Done. Die Sendungsverfolgung zeigt imm...\n",
       "Name: raw_tweet_data, Length: 1996, dtype: object"
      ]
     },
     "execution_count": 4,
     "metadata": {},
     "output_type": "execute_result"
    }
   ],
   "source": [
    "data"
   ]
  },
  {
   "cell_type": "code",
   "execution_count": 6,
   "metadata": {},
   "outputs": [],
   "source": [
    "# Hashtag filter\n",
    "no_hashtag = data.apply(lambda x: re.sub('#[\\w]+','', x)) \n",
    "\n",
    "# Mention filter\n",
    "no_mention = no_hashtag.apply(lambda x: re.sub(\"@([A-Za-z0-9_ßäöüÄÖÜÇâêîôûéàèùëïç]+)|([^0-9A-Za-z_ßäöüÄÖÜâêîôûéàèùëïç \\t])|(\\w+:\\/\\/\\S+)\",' ', x))\n",
    "\n",
    "# Remove RT\n",
    "no_rt = no_mention.apply(lambda x: re.sub('RT','', x))\n",
    "\n",
    "# Remove numbers\n",
    "no_num = no_rt.apply(lambda x: re.sub('[0-9]+','', x))\n",
    "\n",
    "# Remove extra underscores\n",
    "no_underscore = no_num.apply(lambda x: re.sub('_','', x))\n",
    "\n",
    "# Remove leading and trailing whitespaces\n",
    "no_space = no_underscore.apply(lambda x: x.strip())\n",
    "\n",
    "# Lowercase the words\n",
    "lowercase = no_space.apply(lambda x: x.lower())\n",
    "\n",
    "# Remove extra spaces in between words\n",
    "cleaned = lowercase.apply(lambda x: \" \".join(x.split()))\n"
   ]
  },
  {
   "cell_type": "code",
   "execution_count": 7,
   "metadata": {},
   "outputs": [],
   "source": [
    "# Save to dataframe\n",
    "raw_data['clean_data'] = cleaned"
   ]
  },
  {
   "cell_type": "code",
   "execution_count": 8,
   "metadata": {},
   "outputs": [
    {
     "data": {
      "text/html": [
       "<div>\n",
       "<style scoped>\n",
       "    .dataframe tbody tr th:only-of-type {\n",
       "        vertical-align: middle;\n",
       "    }\n",
       "\n",
       "    .dataframe tbody tr th {\n",
       "        vertical-align: top;\n",
       "    }\n",
       "\n",
       "    .dataframe thead th {\n",
       "        text-align: right;\n",
       "    }\n",
       "</style>\n",
       "<table border=\"1\" class=\"dataframe\">\n",
       "  <thead>\n",
       "    <tr style=\"text-align: right;\">\n",
       "      <th></th>\n",
       "      <th>raw_tweet_data</th>\n",
       "      <th>clean_data</th>\n",
       "    </tr>\n",
       "  </thead>\n",
       "  <tbody>\n",
       "    <tr>\n",
       "      <th>0</th>\n",
       "      <td>@chardinghh In meiner Branche sind wir damit g...</td>\n",
       "      <td>in meiner branche sind wir damit ganz weit vorn</td>\n",
       "    </tr>\n",
       "    <tr>\n",
       "      <th>1</th>\n",
       "      <td>Ich vermisse beim Stundeneintragen den Punkt „...</td>\n",
       "      <td>ich vermisse beim stundeneintragen den punkt e...</td>\n",
       "    </tr>\n",
       "    <tr>\n",
       "      <th>2</th>\n",
       "      <td>@lawen4cer N‘Trotzki.</td>\n",
       "      <td>n trotzki</td>\n",
       "    </tr>\n",
       "    <tr>\n",
       "      <th>3</th>\n",
       "      <td>@ktschk ER HAT UNS DIE FREUDE GESCHENKT!</td>\n",
       "      <td>er hat uns die freude geschenkt</td>\n",
       "    </tr>\n",
       "    <tr>\n",
       "      <th>4</th>\n",
       "      <td>@tantekatya @HeikoMaas @ZDFheute Das ist die i...</td>\n",
       "      <td>das ist die innere kälte dass er nicht mehr am...</td>\n",
       "    </tr>\n",
       "    <tr>\n",
       "      <th>...</th>\n",
       "      <td>...</td>\n",
       "      <td>...</td>\n",
       "    </tr>\n",
       "    <tr>\n",
       "      <th>1867</th>\n",
       "      <td>Merke: „x-mal so viel“ ist nicht dasselbe wie ...</td>\n",
       "      <td>merke x mal so viel ist nicht dasselbe wie x m...</td>\n",
       "    </tr>\n",
       "    <tr>\n",
       "      <th>1868</th>\n",
       "      <td>@nikahle @andijah Profi finde ich super!</td>\n",
       "      <td>profi finde ich super</td>\n",
       "    </tr>\n",
       "    <tr>\n",
       "      <th>1869</th>\n",
       "      <td>@andijah Ganz spontan: Guru oder Crack – ist a...</td>\n",
       "      <td>ganz spontan guru oder crack ist aber beides a...</td>\n",
       "    </tr>\n",
       "    <tr>\n",
       "      <th>1870</th>\n",
       "      <td>RT @andijah: Kurze Zwischenfrage ins virtuelle...</td>\n",
       "      <td>kurze zwischenfrage ins virtuelle großraumbüro...</td>\n",
       "    </tr>\n",
       "    <tr>\n",
       "      <th>1871</th>\n",
       "      <td>@dpd_de Done. Die Sendungsverfolgung zeigt imm...</td>\n",
       "      <td>done die sendungsverfolgung zeigt immer noch i...</td>\n",
       "    </tr>\n",
       "  </tbody>\n",
       "</table>\n",
       "<p>1872 rows × 2 columns</p>\n",
       "</div>"
      ],
      "text/plain": [
       "                                         raw_tweet_data  \\\n",
       "0     @chardinghh In meiner Branche sind wir damit g...   \n",
       "1     Ich vermisse beim Stundeneintragen den Punkt „...   \n",
       "2                                 @lawen4cer N‘Trotzki.   \n",
       "3              @ktschk ER HAT UNS DIE FREUDE GESCHENKT!   \n",
       "4     @tantekatya @HeikoMaas @ZDFheute Das ist die i...   \n",
       "...                                                 ...   \n",
       "1867  Merke: „x-mal so viel“ ist nicht dasselbe wie ...   \n",
       "1868           @nikahle @andijah Profi finde ich super!   \n",
       "1869  @andijah Ganz spontan: Guru oder Crack – ist a...   \n",
       "1870  RT @andijah: Kurze Zwischenfrage ins virtuelle...   \n",
       "1871  @dpd_de Done. Die Sendungsverfolgung zeigt imm...   \n",
       "\n",
       "                                             clean_data  \n",
       "0       in meiner branche sind wir damit ganz weit vorn  \n",
       "1     ich vermisse beim stundeneintragen den punkt e...  \n",
       "2                                             n trotzki  \n",
       "3                       er hat uns die freude geschenkt  \n",
       "4     das ist die innere kälte dass er nicht mehr am...  \n",
       "...                                                 ...  \n",
       "1867  merke x mal so viel ist nicht dasselbe wie x m...  \n",
       "1868                              profi finde ich super  \n",
       "1869  ganz spontan guru oder crack ist aber beides a...  \n",
       "1870  kurze zwischenfrage ins virtuelle großraumbüro...  \n",
       "1871  done die sendungsverfolgung zeigt immer noch i...  \n",
       "\n",
       "[1872 rows x 2 columns]"
      ]
     },
     "execution_count": 8,
     "metadata": {},
     "output_type": "execute_result"
    }
   ],
   "source": [
    "# Remove any empty rows\n",
    "empty_rows = raw_data[raw_data.clean_data == ''].index\n",
    "empty_removed = raw_data.drop(empty_rows, axis=0)\n",
    "empty_removed.reset_index(drop=True, inplace=True)\n",
    "\n",
    "empty_removed"
   ]
  },
  {
   "cell_type": "code",
   "execution_count": 9,
   "metadata": {},
   "outputs": [
    {
     "data": {
      "text/plain": [
       "raw_tweet_data    0\n",
       "clean_data        0\n",
       "dtype: int64"
      ]
     },
     "execution_count": 9,
     "metadata": {},
     "output_type": "execute_result"
    }
   ],
   "source": [
    "empty_removed.isna().sum()"
   ]
  },
  {
   "cell_type": "code",
   "execution_count": 10,
   "metadata": {},
   "outputs": [],
   "source": [
    "empty_removed.to_csv('./data/cleaned_data.csv', index=False)"
   ]
  },
  {
   "cell_type": "code",
   "execution_count": null,
   "metadata": {},
   "outputs": [],
   "source": []
  },
  {
   "cell_type": "code",
   "execution_count": null,
   "metadata": {},
   "outputs": [],
   "source": []
  }
 ],
 "metadata": {
  "interpreter": {
   "hash": "c13c2d661185228a4c4d63993c20c3e5bdf2ba4e265046529d225752df3d5e17"
  },
  "kernelspec": {
   "display_name": "Python 3.7.0 64-bit (system)",
   "language": "python",
   "name": "python3"
  },
  "language_info": {
   "codemirror_mode": {
    "name": "ipython",
    "version": 3
   },
   "file_extension": ".py",
   "mimetype": "text/x-python",
   "name": "python",
   "nbconvert_exporter": "python",
   "pygments_lexer": "ipython3",
   "version": "3.7.0"
  },
  "orig_nbformat": 4
 },
 "nbformat": 4,
 "nbformat_minor": 2
}
